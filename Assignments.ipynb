{
 "cells": [
  {
   "cell_type": "markdown",
   "metadata": {},
   "source": [
    "## Gruppe: \n",
    "Nikolai Perlt, Jesper Rusbjerg, Adam Lass og Rasmus Helsgaun\n",
    "# Part 1: Download script\n",
    "The files will be created and inserted into the root of the project.\n",
    "First argument when calling the script is the PATHFILE (Example: ./)\n",
    "All other arguments are the URLs"
   ]
  },
  {
   "cell_type": "code",
   "execution_count": 11,
   "metadata": {},
   "outputs": [
    {
     "name": "stdout",
     "output_type": "stream",
     "text": [
      "2701-0.txt has been created\n",
      "pg27525.txt has been created\n"
     ]
    }
   ],
   "source": [
    "!python download_script.py ./ http://www.gutenberg.org/files/2701/2701-0.txt http://www.gutenberg.org/cache/epub/27525/pg27525.txt"
   ]
  },
  {
   "cell_type": "markdown",
   "metadata": {},
   "source": [
    "# Part 2: Reading .xlsx files"
   ]
  },
  {
   "cell_type": "code",
   "execution_count": 14,
   "metadata": {},
   "outputs": [
    {
     "name": "stdout",
     "output_type": "stream",
     "text": [
      "iris_data has been converted to a csv file\n"
     ]
    }
   ],
   "source": [
    "import pandas\n",
    "\n",
    "df = pandas.read_excel(\"iris_data.xlsx\")\n",
    "df.to_csv('iris_data.csv', index=False)\n",
    "print(\"iris_data has been converted to a csv file\")"
   ]
  },
  {
   "cell_type": "markdown",
   "metadata": {},
   "source": [
    "## Part 2: Testing"
   ]
  },
  {
   "cell_type": "code",
   "execution_count": 15,
   "metadata": {},
   "outputs": [
    {
     "name": "stdout",
     "output_type": "stream",
     "text": [
      "True\n"
     ]
    }
   ],
   "source": [
    "csv_frame = pandas.read_csv('iris_data.csv')\n",
    "excel_frame = pandas.read_excel(\"iris_data.xlsx\")\n",
    "\n",
    "#Does both the csv- and excelfile contain the same data?\n",
    "print(csv_frame.equals(excel_frame))"
   ]
  },
  {
   "cell_type": "markdown",
   "metadata": {},
   "source": [
    "# Part 3: Creating a module with data"
   ]
  },
  {
   "cell_type": "code",
   "execution_count": 16,
   "metadata": {
    "scrolled": true
   },
   "outputs": [
    {
     "name": "stdout",
     "output_type": "stream",
     "text": [
      "befkbhalderstatkode.csv has been created\n",
      "Dictionary created\n"
     ]
    }
   ],
   "source": [
    "import pandas\n",
    "\n",
    "!python download_script.py ./ http://data.kk.dk/dataset/76ecf368-bf2d-46a2-bcf8-adaf37662528/resource/9286af17-f74e-46c9-a428-9fb707542189/download/befkbhalderstatkode.csv\n",
    "df = pandas.read_csv('befkbhalderstatkode.csv')\n",
    "\n",
    "res = {}\n",
    "rows = df.values\n",
    "\n",
    "for row in rows:\n",
    "    res.setdefault(row[0], {}).setdefault(row[1], {}).setdefault(row[2], {})[row[3]] = row[4]\n",
    "print(\"Dictionary created\")"
   ]
  },
  {
   "cell_type": "markdown",
   "metadata": {},
   "source": [
    "## Part 3: Testing"
   ]
  },
  {
   "cell_type": "code",
   "execution_count": 10,
   "metadata": {},
   "outputs": [
    {
     "name": "stdout",
     "output_type": "stream",
     "text": [
      "True\n"
     ]
    }
   ],
   "source": [
    "existsInDict = True\n",
    "firstYear = 2015\n",
    "firstYearAgeZeroContains = 22\n",
    "\n",
    "for row in rows:\n",
    "    #Checks if the year is 2015 and that age 0 contains 22 elements\n",
    "    if res[row[0]] == firstYear:\n",
    "        if len(res[row[0]][row[1]][row[2]]) != firstYearAgeZeroContains:\n",
    "            existsInDict = False\n",
    "    #Checks if the quantity of persons in dict equals persons in the csv file\n",
    "    if res[row[0]][row[1]][row[2]][row[3]] != [row[4]]:\n",
    "        existsInDict = False\n",
    "print(existsInDict)"
   ]
  }
 ],
 "metadata": {
  "kernelspec": {
   "display_name": "Python 3",
   "language": "python",
   "name": "python3"
  },
  "language_info": {
   "codemirror_mode": {
    "name": "ipython",
    "version": 3
   },
   "file_extension": ".py",
   "mimetype": "text/x-python",
   "name": "python",
   "nbconvert_exporter": "python",
   "pygments_lexer": "ipython3",
   "version": "3.7.1"
  }
 },
 "nbformat": 4,
 "nbformat_minor": 2
}
